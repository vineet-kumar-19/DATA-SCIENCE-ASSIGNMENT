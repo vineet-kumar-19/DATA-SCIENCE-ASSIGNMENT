{
 "cells": [
  {
   "cell_type": "code",
   "execution_count": 5,
   "id": "88082743-0f70-4234-8714-3ccac791626c",
   "metadata": {},
   "outputs": [
    {
     "name": "stdout",
     "output_type": "stream",
     "text": [
      "<class 'str'>\n",
      "<class 'list'>\n",
      "<class 'float'>\n",
      "<class 'tuple'>\n"
     ]
    }
   ],
   "source": [
    "#Q1.Create one variable containing following type of data:\n",
    "\n",
    "#(i) string\n",
    "a=\"ABC\"\n",
    "print(type(a))\n",
    "\n",
    "#(ii) list\n",
    "b=[a,\"B\",\"C\",1,2.3,4+5j]\n",
    "print(type(b))\n",
    "\n",
    "#(iii) float\n",
    "c=3.14159\n",
    "print(type(c))\n",
    "\n",
    "#(iv) tuple\n",
    "d=(a,b,c,\"Z\")\n",
    "print(type(d))"
   ]
  },
  {
   "cell_type": "code",
   "execution_count": 9,
   "id": "1de06684-0bf5-4165-a285-6201087588b9",
   "metadata": {},
   "outputs": [],
   "source": [
    "#Q2. Given are some following variables containing data:\n",
    "#What will be the data type of the above given values\n",
    "\n",
    "#(i) var1 = ‘ ‘\n",
    "#ERROR as the apostrophes are not in correct orientation. It should be like ' ' then it will show string.\n",
    "\n",
    "#(ii) var2 = ‘[ DS , ML , Python]’\n",
    "#STRING\n",
    "\n",
    "#(iii) var3 = [ ‘DS’ , ’ML’ , ‘Python’ ]\n",
    "#ERROR as the apostrophes are not in correct orientation.\n",
    "\n",
    "#(iv) var4 = 1.\n",
    "#FLOAT\n"
   ]
  },
  {
   "cell_type": "code",
   "execution_count": 25,
   "id": "1784bd2b-6fae-4f22-9c50-a73f33f56324",
   "metadata": {},
   "outputs": [
    {
     "name": "stdout",
     "output_type": "stream",
     "text": [
      "2.3333333333333335\n",
      "<class 'float'>\n",
      "1\n",
      "1\n",
      "16\n",
      "8\n"
     ]
    }
   ],
   "source": [
    "# Q3. Explain the use of the following operators using an example:\n",
    "#(i) /\n",
    "#  if a/b is written, where a,b are numeric then it returns the value of a divided by b in float type. like\n",
    "a=7/3\n",
    "print(a)\n",
    "print(type(a))\n",
    "\n",
    "#(ii) %\n",
    "# It is modulo sign it returns the reminder .like\n",
    "b=5%2\n",
    "print(b)\n",
    "#(iii) //\n",
    "# It works same as \"/\" but just convert the answer in int data type. like\n",
    "print(3//2)\n",
    "#(iv) **\n",
    "# If a**b is written then it returns a raise to power b. like\n",
    "print(2**4)\n",
    "print(2**3)"
   ]
  },
  {
   "cell_type": "code",
   "execution_count": 33,
   "id": "028880fd-6bf2-48d8-9616-35a335ec6da4",
   "metadata": {},
   "outputs": [
    {
     "name": "stdout",
     "output_type": "stream",
     "text": [
      "<class 'str'>\n",
      "<class 'float'>\n",
      "<class 'int'>\n",
      "<class 'complex'>\n",
      "<class 'tuple'>\n",
      "<class 'list'>\n",
      "<class 'set'>\n",
      "<class 'str'>\n",
      "<class 'str'>\n",
      "<class 'str'>\n"
     ]
    }
   ],
   "source": [
    "#Q4. Create a list of length 10 of your choice containing multiple types of data. Using for loop print the element and its data type.\n",
    "a=[\"A\", 2.00 , 2 , 2+1j , (2,4,5) , [\"P\",\"W\"] , {\"SKILLS\"}, \"AMAN\",\"AMIT\",\"ASHVIN\"]\n",
    "for i in a:\n",
    "    print(type(i))\n"
   ]
  },
  {
   "cell_type": "code",
   "execution_count": null,
   "id": "142aa866-14a8-41f6-a406-5a0553048db4",
   "metadata": {},
   "outputs": [],
   "source": [
    "# Q5. Using a while loop, verify if the number A is purely divisible by number B and if so then how many times it can be divisible.\n",
    "a=int"
   ]
  },
  {
   "cell_type": "code",
   "execution_count": 37,
   "id": "0b907b65-6a2e-4e76-a5d0-cf65162d562b",
   "metadata": {},
   "outputs": [
    {
     "name": "stdout",
     "output_type": "stream",
     "text": [
      "1 is NOT DIVISIBLE by 3\n",
      "2 is NOT DIVISIBLE by 3\n",
      "3 is DIVISIBLE by 3\n",
      "4 is NOT DIVISIBLE by 3\n",
      "5 is NOT DIVISIBLE by 3\n",
      "6 is DIVISIBLE by 3\n",
      "7 is NOT DIVISIBLE by 3\n",
      "8 is NOT DIVISIBLE by 3\n",
      "9 is DIVISIBLE by 3\n",
      "10 is NOT DIVISIBLE by 3\n",
      "11 is NOT DIVISIBLE by 3\n",
      "12 is DIVISIBLE by 3\n",
      "13 is NOT DIVISIBLE by 3\n",
      "14 is NOT DIVISIBLE by 3\n",
      "15 is DIVISIBLE by 3\n",
      "16 is NOT DIVISIBLE by 3\n",
      "17 is NOT DIVISIBLE by 3\n",
      "18 is DIVISIBLE by 3\n",
      "19 is NOT DIVISIBLE by 3\n",
      "20 is NOT DIVISIBLE by 3\n",
      "21 is DIVISIBLE by 3\n",
      "22 is NOT DIVISIBLE by 3\n",
      "23 is NOT DIVISIBLE by 3\n",
      "24 is DIVISIBLE by 3\n",
      "25 is NOT DIVISIBLE by 3\n"
     ]
    }
   ],
   "source": [
    "# Q6. Create a list containing 25 int type data. Using for loop and if-else condition print if the element is divisible by 3 or not.\n",
    "\n",
    "lis=[]\n",
    "for i in range(25):\n",
    "    lis.append(i+1)\n",
    "for j in lis:\n",
    "    if j%3==0:\n",
    "        print(j,\"is DIVISIBLE by\",3)\n",
    "    else:\n",
    "        print(j,\"is NOT DIVISIBLE by\",3)"
   ]
  },
  {
   "cell_type": "code",
   "execution_count": 42,
   "id": "68994d3a-784b-4b0d-869e-dfd02282db95",
   "metadata": {},
   "outputs": [
    {
     "name": "stdout",
     "output_type": "stream",
     "text": [
      "['a', 'B', 'C']\n"
     ]
    },
    {
     "ename": "TypeError",
     "evalue": "'str' object does not support item assignment",
     "output_type": "error",
     "traceback": [
      "\u001b[0;31m---------------------------------------------------------------------------\u001b[0m",
      "\u001b[0;31mTypeError\u001b[0m                                 Traceback (most recent call last)",
      "Cell \u001b[0;32mIn[42], line 13\u001b[0m\n\u001b[1;32m     10\u001b[0m \u001b[38;5;66;03m#  On the other hand IMMUTABLE data type are the one again as the name suggest immutable in nature i.e, here you cann't change \u001b[39;00m\n\u001b[1;32m     11\u001b[0m \u001b[38;5;66;03m#  there value, elements. if you try to do so, an ERROR will generate. It is faster than MUTABLE data types. for example tuple,string\u001b[39;00m\n\u001b[1;32m     12\u001b[0m b\u001b[38;5;241m=\u001b[39m\u001b[38;5;124m\"\u001b[39m\u001b[38;5;124mPW SKILLS\u001b[39m\u001b[38;5;124m\"\u001b[39m\n\u001b[0;32m---> 13\u001b[0m \u001b[43mb\u001b[49m\u001b[43m[\u001b[49m\u001b[38;5;241;43m-\u001b[39;49m\u001b[38;5;241;43m1\u001b[39;49m\u001b[43m]\u001b[49m\u001b[38;5;241m=\u001b[39m\u001b[38;5;124m\"\u001b[39m\u001b[38;5;124m \u001b[39m\u001b[38;5;124m\"\u001b[39m\n",
      "\u001b[0;31mTypeError\u001b[0m: 'str' object does not support item assignment"
     ]
    }
   ],
   "source": [
    "# Q7. What do you understand about mutable and immutable data types? Give examples for both showing this property.\n",
    "#  MUTABLE data types are one as the name suggests mutable in nature i.e, you can change there value, elements at any point of \n",
    "#  time. It is slower than IMUTABLE data type. for ex: list,dictionary\n",
    "\n",
    "a=[\"A\",\"B\",\"C\"]                #just created a list\n",
    "a[0]=\"a\"                       #change the first element of list\n",
    "print(a)\n",
    "\n",
    "\n",
    "#  On the other hand IMMUTABLE data type are the one again as the name suggest immutable in nature i.e, here you cann't change \n",
    "#  there value, elements. if you try to do so, an ERROR will generate. It is faster than MUTABLE data types. for example tuple,string\n",
    "b=\"PW SKILLS\"\n",
    "b[-1]=\" \""
   ]
  },
  {
   "cell_type": "code",
   "execution_count": null,
   "id": "370ce937-654a-4492-b4b4-c5c377dd62a0",
   "metadata": {},
   "outputs": [],
   "source": []
  }
 ],
 "metadata": {
  "kernelspec": {
   "display_name": "Python 3 (ipykernel)",
   "language": "python",
   "name": "python3"
  },
  "language_info": {
   "codemirror_mode": {
    "name": "ipython",
    "version": 3
   },
   "file_extension": ".py",
   "mimetype": "text/x-python",
   "name": "python",
   "nbconvert_exporter": "python",
   "pygments_lexer": "ipython3",
   "version": "3.10.8"
  }
 },
 "nbformat": 4,
 "nbformat_minor": 5
}
